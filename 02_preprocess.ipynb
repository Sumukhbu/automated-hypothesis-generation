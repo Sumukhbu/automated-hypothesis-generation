{
 "cells": [
  {
   "cell_type": "code",
   "execution_count": 1,
   "id": "2c1e2b14-dcf6-4a87-aafe-bd18700b751e",
   "metadata": {},
   "outputs": [
    {
     "name": "stderr",
     "output_type": "stream",
     "text": [
      "[nltk_data] Downloading package stopwords to\n",
      "[nltk_data]     C:\\Users\\DELL\\AppData\\Roaming\\nltk_data...\n"
     ]
    },
    {
     "name": "stdout",
     "output_type": "stream",
     "text": [
      "✅ Cleaned 10 papers and saved to data/processed\\cleaned_abstracts.json\n",
      "Sample tokens: ['physical', 'artificial', 'intelligence', 'prove', 'one', 'important', 'challenges', 'artificial', 'intelligence', 'governance', 'physical', 'artificial', 'intelligence', 'would', 'define', 'responsible', 'intelligent', 'application', 'society']\n",
      "\n",
      "🔎 Top 20 most common words:\n",
      "artificial: 26\n",
      "intelligence: 24\n",
      "market: 8\n",
      "manipulation: 5\n",
      "learning: 4\n",
      "theory: 4\n",
      "proceedings: 4\n",
      "proposed: 3\n",
      "human: 3\n",
      "conference: 3\n",
      "uncertainty: 3\n",
      "held: 3\n",
      "physical: 2\n",
      "application: 2\n",
      "classification: 2\n",
      "detection: 2\n",
      "development: 2\n",
      "directions: 2\n",
      "discussed: 2\n",
      "performing: 2\n"
     ]
    },
    {
     "name": "stderr",
     "output_type": "stream",
     "text": [
      "[nltk_data]   Unzipping corpora\\stopwords.zip.\n",
      "[nltk_data] Downloading package punkt to\n",
      "[nltk_data]     C:\\Users\\DELL\\AppData\\Roaming\\nltk_data...\n",
      "[nltk_data]   Package punkt is already up-to-date!\n"
     ]
    }
   ],
   "source": [
    "import os\n",
    "import json\n",
    "import nltk\n",
    "import re\n",
    "from nltk.corpus import stopwords\n",
    "from nltk.tokenize import word_tokenize\n",
    "from collections import Counter\n",
    "\n",
    "# Make sure stopwords are available\n",
    "nltk.download(\"stopwords\")\n",
    "nltk.download(\"punkt\")\n",
    "\n",
    "# Paths\n",
    "PROCESSED_DIR = \"data/processed\"\n",
    "INPUT_FILE = os.path.join(PROCESSED_DIR, \"abstracts.json\")\n",
    "OUTPUT_FILE = os.path.join(PROCESSED_DIR, \"cleaned_abstracts.json\")\n",
    "\n",
    "# Load data\n",
    "with open(INPUT_FILE, \"r\", encoding=\"utf-8\") as f:\n",
    "    papers = json.load(f)\n",
    "\n",
    "stop_words = set(stopwords.words(\"english\"))\n",
    "\n",
    "def clean_text(text):\n",
    "    # Lowercase\n",
    "    text = text.lower()\n",
    "    # Remove special characters/numbers\n",
    "    text = re.sub(r\"[^a-z\\s]\", \"\", text)\n",
    "    # Tokenize\n",
    "    tokens = word_tokenize(text)\n",
    "    # Remove stopwords + short tokens\n",
    "    tokens = [t for t in tokens if t not in stop_words and len(t) > 2]\n",
    "    return tokens\n",
    "\n",
    "# Apply cleaning\n",
    "for paper in papers:\n",
    "    paper[\"tokens\"] = clean_text(paper[\"abstract\"])\n",
    "\n",
    "# Save cleaned file\n",
    "with open(OUTPUT_FILE, \"w\", encoding=\"utf-8\") as f:\n",
    "    json.dump(papers, f, indent=2)\n",
    "\n",
    "print(f\"✅ Cleaned {len(papers)} papers and saved to {OUTPUT_FILE}\")\n",
    "print(\"Sample tokens:\", papers[0][\"tokens\"][:30])\n",
    "\n",
    "# ---- Word frequency stats ----\n",
    "all_tokens = [token for paper in papers for token in paper[\"tokens\"]]\n",
    "freq_dist = Counter(all_tokens)\n",
    "\n",
    "print(\"\\n🔎 Top 20 most common words:\")\n",
    "for word, count in freq_dist.most_common(20):\n",
    "    print(f\"{word}: {count}\")\n"
   ]
  },
  {
   "cell_type": "code",
   "execution_count": null,
   "id": "f13259e1-eb92-4db7-b757-bdee4dbe91db",
   "metadata": {},
   "outputs": [],
   "source": []
  }
 ],
 "metadata": {
  "kernelspec": {
   "display_name": "Python 3 (ipykernel)",
   "language": "python",
   "name": "python3"
  },
  "language_info": {
   "codemirror_mode": {
    "name": "ipython",
    "version": 3
   },
   "file_extension": ".py",
   "mimetype": "text/x-python",
   "name": "python",
   "nbconvert_exporter": "python",
   "pygments_lexer": "ipython3",
   "version": "3.10.18"
  }
 },
 "nbformat": 4,
 "nbformat_minor": 5
}
